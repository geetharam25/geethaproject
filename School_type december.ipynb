{
 "cells": [
  {
   "cell_type": "code",
   "execution_count": 1,
   "id": "588437b9",
   "metadata": {},
   "outputs": [],
   "source": [
    "import pandas as pd\n",
    "import matplotlib.pyplot as plt\n",
    "import seaborn as sns\n",
    "import plotly.express as px"
   ]
  },
  {
   "cell_type": "code",
   "execution_count": 2,
   "id": "133d7101",
   "metadata": {},
   "outputs": [],
   "source": [
    "schoolty_df = pd.read_csv('school_type.csv')"
   ]
  },
  {
   "cell_type": "code",
   "execution_count": 3,
   "id": "5c5303b9",
   "metadata": {},
   "outputs": [
    {
     "data": {
      "text/html": [
       "<div>\n",
       "<style scoped>\n",
       "    .dataframe tbody tr th:only-of-type {\n",
       "        vertical-align: middle;\n",
       "    }\n",
       "\n",
       "    .dataframe tbody tr th {\n",
       "        vertical-align: top;\n",
       "    }\n",
       "\n",
       "    .dataframe thead th {\n",
       "        text-align: right;\n",
       "    }\n",
       "</style>\n",
       "<table border=\"1\" class=\"dataframe\">\n",
       "  <thead>\n",
       "    <tr style=\"text-align: right;\">\n",
       "      <th></th>\n",
       "      <th>time_period</th>\n",
       "      <th>time_identifier</th>\n",
       "      <th>geographic_level</th>\n",
       "      <th>country_code</th>\n",
       "      <th>country_name</th>\n",
       "      <th>a_level_status</th>\n",
       "      <th>school_type</th>\n",
       "      <th>progression_rate</th>\n",
       "      <th>high_tariff_progression_rate</th>\n",
       "      <th>number_of_he_students</th>\n",
       "      <th>number_of_high_tariff_he_students</th>\n",
       "      <th>number_of_students</th>\n",
       "    </tr>\n",
       "  </thead>\n",
       "  <tbody>\n",
       "    <tr>\n",
       "      <th>0</th>\n",
       "      <td>200809</td>\n",
       "      <td>Academic year</td>\n",
       "      <td>National</td>\n",
       "      <td>E92000001</td>\n",
       "      <td>England</td>\n",
       "      <td>Total</td>\n",
       "      <td>Independent</td>\n",
       "      <td>83.3</td>\n",
       "      <td>53.5</td>\n",
       "      <td>25399</td>\n",
       "      <td>16309</td>\n",
       "      <td>30475</td>\n",
       "    </tr>\n",
       "    <tr>\n",
       "      <th>1</th>\n",
       "      <td>200809</td>\n",
       "      <td>Academic year</td>\n",
       "      <td>National</td>\n",
       "      <td>E92000001</td>\n",
       "      <td>England</td>\n",
       "      <td>Total</td>\n",
       "      <td>Selective State</td>\n",
       "      <td>89.2</td>\n",
       "      <td>43.8</td>\n",
       "      <td>18109</td>\n",
       "      <td>8889</td>\n",
       "      <td>20304</td>\n",
       "    </tr>\n",
       "    <tr>\n",
       "      <th>2</th>\n",
       "      <td>200809</td>\n",
       "      <td>Academic year</td>\n",
       "      <td>National</td>\n",
       "      <td>E92000001</td>\n",
       "      <td>England</td>\n",
       "      <td>Total</td>\n",
       "      <td>Other State</td>\n",
       "      <td>70.1</td>\n",
       "      <td>15.6</td>\n",
       "      <td>151084</td>\n",
       "      <td>33625</td>\n",
       "      <td>215396</td>\n",
       "    </tr>\n",
       "    <tr>\n",
       "      <th>3</th>\n",
       "      <td>200809</td>\n",
       "      <td>Academic year</td>\n",
       "      <td>National</td>\n",
       "      <td>E92000001</td>\n",
       "      <td>England</td>\n",
       "      <td>Total</td>\n",
       "      <td>Total</td>\n",
       "      <td>73.1</td>\n",
       "      <td>22.1</td>\n",
       "      <td>194592</td>\n",
       "      <td>58823</td>\n",
       "      <td>266175</td>\n",
       "    </tr>\n",
       "    <tr>\n",
       "      <th>4</th>\n",
       "      <td>200910</td>\n",
       "      <td>Academic year</td>\n",
       "      <td>National</td>\n",
       "      <td>E92000001</td>\n",
       "      <td>England</td>\n",
       "      <td>Total</td>\n",
       "      <td>Independent</td>\n",
       "      <td>85.0</td>\n",
       "      <td>57.5</td>\n",
       "      <td>26559</td>\n",
       "      <td>17981</td>\n",
       "      <td>31247</td>\n",
       "    </tr>\n",
       "  </tbody>\n",
       "</table>\n",
       "</div>"
      ],
      "text/plain": [
       "   time_period time_identifier geographic_level country_code country_name  \\\n",
       "0       200809   Academic year         National    E92000001      England   \n",
       "1       200809   Academic year         National    E92000001      England   \n",
       "2       200809   Academic year         National    E92000001      England   \n",
       "3       200809   Academic year         National    E92000001      England   \n",
       "4       200910   Academic year         National    E92000001      England   \n",
       "\n",
       "  a_level_status      school_type  progression_rate  \\\n",
       "0          Total      Independent              83.3   \n",
       "1          Total  Selective State              89.2   \n",
       "2          Total      Other State              70.1   \n",
       "3          Total            Total              73.1   \n",
       "4          Total      Independent              85.0   \n",
       "\n",
       "   high_tariff_progression_rate  number_of_he_students  \\\n",
       "0                          53.5                  25399   \n",
       "1                          43.8                  18109   \n",
       "2                          15.6                 151084   \n",
       "3                          22.1                 194592   \n",
       "4                          57.5                  26559   \n",
       "\n",
       "   number_of_high_tariff_he_students  number_of_students  \n",
       "0                              16309               30475  \n",
       "1                               8889               20304  \n",
       "2                              33625              215396  \n",
       "3                              58823              266175  \n",
       "4                              17981               31247  "
      ]
     },
     "execution_count": 3,
     "metadata": {},
     "output_type": "execute_result"
    }
   ],
   "source": [
    "schoolty_df.head()"
   ]
  },
  {
   "cell_type": "code",
   "execution_count": 4,
   "id": "89c7956c",
   "metadata": {},
   "outputs": [
    {
     "name": "stdout",
     "output_type": "stream",
     "text": [
      "<class 'pandas.core.frame.DataFrame'>\n",
      "RangeIndex: 104 entries, 0 to 103\n",
      "Data columns (total 12 columns):\n",
      " #   Column                             Non-Null Count  Dtype  \n",
      "---  ------                             --------------  -----  \n",
      " 0   time_period                        104 non-null    int64  \n",
      " 1   time_identifier                    104 non-null    object \n",
      " 2   geographic_level                   104 non-null    object \n",
      " 3   country_code                       104 non-null    object \n",
      " 4   country_name                       104 non-null    object \n",
      " 5   a_level_status                     104 non-null    object \n",
      " 6   school_type                        104 non-null    object \n",
      " 7   progression_rate                   104 non-null    float64\n",
      " 8   high_tariff_progression_rate       104 non-null    float64\n",
      " 9   number_of_he_students              104 non-null    int64  \n",
      " 10  number_of_high_tariff_he_students  104 non-null    int64  \n",
      " 11  number_of_students                 104 non-null    int64  \n",
      "dtypes: float64(2), int64(4), object(6)\n",
      "memory usage: 9.9+ KB\n"
     ]
    }
   ],
   "source": [
    "schoolty_df.info()"
   ]
  },
  {
   "cell_type": "code",
   "execution_count": 5,
   "id": "1c39dab9",
   "metadata": {},
   "outputs": [
    {
     "data": {
      "text/plain": [
       "(104, 12)"
      ]
     },
     "execution_count": 5,
     "metadata": {},
     "output_type": "execute_result"
    }
   ],
   "source": [
    "schoolty_df.shape"
   ]
  },
  {
   "cell_type": "code",
   "execution_count": 6,
   "id": "3e6436d4",
   "metadata": {},
   "outputs": [
    {
     "data": {
      "text/plain": [
       "time_period                          0\n",
       "time_identifier                      0\n",
       "geographic_level                     0\n",
       "country_code                         0\n",
       "country_name                         0\n",
       "a_level_status                       0\n",
       "school_type                          0\n",
       "progression_rate                     0\n",
       "high_tariff_progression_rate         0\n",
       "number_of_he_students                0\n",
       "number_of_high_tariff_he_students    0\n",
       "number_of_students                   0\n",
       "dtype: int64"
      ]
     },
     "execution_count": 6,
     "metadata": {},
     "output_type": "execute_result"
    }
   ],
   "source": [
    "schoolty_df.isna().sum()"
   ]
  },
  {
   "cell_type": "code",
   "execution_count": 7,
   "id": "c1d4ad6f",
   "metadata": {},
   "outputs": [],
   "source": [
    "schoolty_df['year'] = (schoolty_df['time_period'] % 100) + 2000\n"
   ]
  },
  {
   "cell_type": "code",
   "execution_count": 8,
   "id": "7edb6fc8",
   "metadata": {},
   "outputs": [
    {
     "data": {
      "text/html": [
       "<div>\n",
       "<style scoped>\n",
       "    .dataframe tbody tr th:only-of-type {\n",
       "        vertical-align: middle;\n",
       "    }\n",
       "\n",
       "    .dataframe tbody tr th {\n",
       "        vertical-align: top;\n",
       "    }\n",
       "\n",
       "    .dataframe thead th {\n",
       "        text-align: right;\n",
       "    }\n",
       "</style>\n",
       "<table border=\"1\" class=\"dataframe\">\n",
       "  <thead>\n",
       "    <tr style=\"text-align: right;\">\n",
       "      <th></th>\n",
       "      <th>time_period</th>\n",
       "      <th>time_identifier</th>\n",
       "      <th>geographic_level</th>\n",
       "      <th>country_code</th>\n",
       "      <th>country_name</th>\n",
       "      <th>a_level_status</th>\n",
       "      <th>school_type</th>\n",
       "      <th>progression_rate</th>\n",
       "      <th>high_tariff_progression_rate</th>\n",
       "      <th>number_of_he_students</th>\n",
       "      <th>number_of_high_tariff_he_students</th>\n",
       "      <th>number_of_students</th>\n",
       "      <th>year</th>\n",
       "    </tr>\n",
       "  </thead>\n",
       "  <tbody>\n",
       "    <tr>\n",
       "      <th>0</th>\n",
       "      <td>200809</td>\n",
       "      <td>Academic year</td>\n",
       "      <td>National</td>\n",
       "      <td>E92000001</td>\n",
       "      <td>England</td>\n",
       "      <td>Total</td>\n",
       "      <td>Independent</td>\n",
       "      <td>83.3</td>\n",
       "      <td>53.5</td>\n",
       "      <td>25399</td>\n",
       "      <td>16309</td>\n",
       "      <td>30475</td>\n",
       "      <td>2009</td>\n",
       "    </tr>\n",
       "    <tr>\n",
       "      <th>1</th>\n",
       "      <td>200809</td>\n",
       "      <td>Academic year</td>\n",
       "      <td>National</td>\n",
       "      <td>E92000001</td>\n",
       "      <td>England</td>\n",
       "      <td>Total</td>\n",
       "      <td>Selective State</td>\n",
       "      <td>89.2</td>\n",
       "      <td>43.8</td>\n",
       "      <td>18109</td>\n",
       "      <td>8889</td>\n",
       "      <td>20304</td>\n",
       "      <td>2009</td>\n",
       "    </tr>\n",
       "    <tr>\n",
       "      <th>2</th>\n",
       "      <td>200809</td>\n",
       "      <td>Academic year</td>\n",
       "      <td>National</td>\n",
       "      <td>E92000001</td>\n",
       "      <td>England</td>\n",
       "      <td>Total</td>\n",
       "      <td>Other State</td>\n",
       "      <td>70.1</td>\n",
       "      <td>15.6</td>\n",
       "      <td>151084</td>\n",
       "      <td>33625</td>\n",
       "      <td>215396</td>\n",
       "      <td>2009</td>\n",
       "    </tr>\n",
       "    <tr>\n",
       "      <th>3</th>\n",
       "      <td>200809</td>\n",
       "      <td>Academic year</td>\n",
       "      <td>National</td>\n",
       "      <td>E92000001</td>\n",
       "      <td>England</td>\n",
       "      <td>Total</td>\n",
       "      <td>Total</td>\n",
       "      <td>73.1</td>\n",
       "      <td>22.1</td>\n",
       "      <td>194592</td>\n",
       "      <td>58823</td>\n",
       "      <td>266175</td>\n",
       "      <td>2009</td>\n",
       "    </tr>\n",
       "    <tr>\n",
       "      <th>4</th>\n",
       "      <td>200910</td>\n",
       "      <td>Academic year</td>\n",
       "      <td>National</td>\n",
       "      <td>E92000001</td>\n",
       "      <td>England</td>\n",
       "      <td>Total</td>\n",
       "      <td>Independent</td>\n",
       "      <td>85.0</td>\n",
       "      <td>57.5</td>\n",
       "      <td>26559</td>\n",
       "      <td>17981</td>\n",
       "      <td>31247</td>\n",
       "      <td>2010</td>\n",
       "    </tr>\n",
       "  </tbody>\n",
       "</table>\n",
       "</div>"
      ],
      "text/plain": [
       "   time_period time_identifier geographic_level country_code country_name  \\\n",
       "0       200809   Academic year         National    E92000001      England   \n",
       "1       200809   Academic year         National    E92000001      England   \n",
       "2       200809   Academic year         National    E92000001      England   \n",
       "3       200809   Academic year         National    E92000001      England   \n",
       "4       200910   Academic year         National    E92000001      England   \n",
       "\n",
       "  a_level_status      school_type  progression_rate  \\\n",
       "0          Total      Independent              83.3   \n",
       "1          Total  Selective State              89.2   \n",
       "2          Total      Other State              70.1   \n",
       "3          Total            Total              73.1   \n",
       "4          Total      Independent              85.0   \n",
       "\n",
       "   high_tariff_progression_rate  number_of_he_students  \\\n",
       "0                          53.5                  25399   \n",
       "1                          43.8                  18109   \n",
       "2                          15.6                 151084   \n",
       "3                          22.1                 194592   \n",
       "4                          57.5                  26559   \n",
       "\n",
       "   number_of_high_tariff_he_students  number_of_students  year  \n",
       "0                              16309               30475  2009  \n",
       "1                               8889               20304  2009  \n",
       "2                              33625              215396  2009  \n",
       "3                              58823              266175  2009  \n",
       "4                              17981               31247  2010  "
      ]
     },
     "execution_count": 8,
     "metadata": {},
     "output_type": "execute_result"
    }
   ],
   "source": [
    "schoolty_df.head()"
   ]
  },
  {
   "cell_type": "code",
   "execution_count": 9,
   "id": "712a58b3",
   "metadata": {},
   "outputs": [
    {
     "data": {
      "text/plain": [
       "(78, 13)"
      ]
     },
     "execution_count": 9,
     "metadata": {},
     "output_type": "execute_result"
    }
   ],
   "source": [
    "schoolty_df = schoolty_df[~schoolty_df['school_type'].isin(['Total'])]\n",
    "\n",
    "schoolty_df.shape"
   ]
  },
  {
   "cell_type": "markdown",
   "id": "a57be515",
   "metadata": {},
   "source": [
    "# Checking for Outliers"
   ]
  },
  {
   "cell_type": "code",
   "execution_count": 10,
   "id": "3ccc3dfd",
   "metadata": {},
   "outputs": [
    {
     "name": "stderr",
     "output_type": "stream",
     "text": [
      "/var/folders/bw/gz4rllf1447_w_jzf73m9nz00000gn/T/ipykernel_42963/466092492.py:2: FutureWarning: \n",
      "\n",
      "Passing `palette` without assigning `hue` is deprecated and will be removed in v0.14.0. Assign the `x` variable to `hue` and set `legend=False` for the same effect.\n",
      "\n",
      "  sns.boxplot(data=schoolty_df, x='school_type', y='progression_rate',palette='hls')\n"
     ]
    },
    {
     "data": {
      "image/png": "[encoded data removed]",
      "text/plain": [
       "<Figure size 1100x600 with 1 Axes>"
      ]
     },
     "metadata": {},
     "output_type": "display_data"
    }
   ],
   "source": [
    "plt.figure(figsize=(11, 6))\n",
    "sns.boxplot(data=schoolty_df, x='school_type', y='progression_rate',palette='hls')\n",
    "plt.xticks(rotation=45)\n",
    "plt.title('Distribution of Progression Rates by school_type')\n",
    "plt.xlabel('school_type')\n",
    "plt.ylabel('Progression Rate')\n",
    "plt.show()"
   ]
  },
  {
   "cell_type": "code",
   "execution_count": 11,
   "id": "41259e63",
   "metadata": {},
   "outputs": [
    {
     "data": {
      "text/html": [
       "<div>\n",
       "<style scoped>\n",
       "    .dataframe tbody tr th:only-of-type {\n",
       "        vertical-align: middle;\n",
       "    }\n",
       "\n",
       "    .dataframe tbody tr th {\n",
       "        vertical-align: top;\n",
       "    }\n",
       "\n",
       "    .dataframe thead th {\n",
       "        text-align: right;\n",
       "    }\n",
       "</style>\n",
       "<table border=\"1\" class=\"dataframe\">\n",
       "  <thead>\n",
       "    <tr style=\"text-align: right;\">\n",
       "      <th></th>\n",
       "      <th>time_period</th>\n",
       "      <th>time_identifier</th>\n",
       "      <th>geographic_level</th>\n",
       "      <th>country_code</th>\n",
       "      <th>country_name</th>\n",
       "      <th>a_level_status</th>\n",
       "      <th>school_type</th>\n",
       "      <th>progression_rate</th>\n",
       "      <th>high_tariff_progression_rate</th>\n",
       "      <th>number_of_he_students</th>\n",
       "      <th>number_of_high_tariff_he_students</th>\n",
       "      <th>number_of_students</th>\n",
       "      <th>year</th>\n",
       "    </tr>\n",
       "  </thead>\n",
       "  <tbody>\n",
       "    <tr>\n",
       "      <th>0</th>\n",
       "      <td>200809</td>\n",
       "      <td>Academic year</td>\n",
       "      <td>National</td>\n",
       "      <td>E92000001</td>\n",
       "      <td>England</td>\n",
       "      <td>Total</td>\n",
       "      <td>Independent</td>\n",
       "      <td>83.3</td>\n",
       "      <td>53.5</td>\n",
       "      <td>25399</td>\n",
       "      <td>16309</td>\n",
       "      <td>30475</td>\n",
       "      <td>2009</td>\n",
       "    </tr>\n",
       "    <tr>\n",
       "      <th>1</th>\n",
       "      <td>200809</td>\n",
       "      <td>Academic year</td>\n",
       "      <td>National</td>\n",
       "      <td>E92000001</td>\n",
       "      <td>England</td>\n",
       "      <td>Total</td>\n",
       "      <td>Selective State</td>\n",
       "      <td>89.2</td>\n",
       "      <td>43.8</td>\n",
       "      <td>18109</td>\n",
       "      <td>8889</td>\n",
       "      <td>20304</td>\n",
       "      <td>2009</td>\n",
       "    </tr>\n",
       "    <tr>\n",
       "      <th>2</th>\n",
       "      <td>200809</td>\n",
       "      <td>Academic year</td>\n",
       "      <td>National</td>\n",
       "      <td>E92000001</td>\n",
       "      <td>England</td>\n",
       "      <td>Total</td>\n",
       "      <td>Other State</td>\n",
       "      <td>70.1</td>\n",
       "      <td>15.6</td>\n",
       "      <td>151084</td>\n",
       "      <td>33625</td>\n",
       "      <td>215396</td>\n",
       "      <td>2009</td>\n",
       "    </tr>\n",
       "    <tr>\n",
       "      <th>4</th>\n",
       "      <td>200910</td>\n",
       "      <td>Academic year</td>\n",
       "      <td>National</td>\n",
       "      <td>E92000001</td>\n",
       "      <td>England</td>\n",
       "      <td>Total</td>\n",
       "      <td>Independent</td>\n",
       "      <td>85.0</td>\n",
       "      <td>57.5</td>\n",
       "      <td>26559</td>\n",
       "      <td>17981</td>\n",
       "      <td>31247</td>\n",
       "      <td>2010</td>\n",
       "    </tr>\n",
       "    <tr>\n",
       "      <th>5</th>\n",
       "      <td>200910</td>\n",
       "      <td>Academic year</td>\n",
       "      <td>National</td>\n",
       "      <td>E92000001</td>\n",
       "      <td>England</td>\n",
       "      <td>Total</td>\n",
       "      <td>Selective State</td>\n",
       "      <td>89.9</td>\n",
       "      <td>49.2</td>\n",
       "      <td>18794</td>\n",
       "      <td>10275</td>\n",
       "      <td>20895</td>\n",
       "      <td>2010</td>\n",
       "    </tr>\n",
       "  </tbody>\n",
       "</table>\n",
       "</div>"
      ],
      "text/plain": [
       "   time_period time_identifier geographic_level country_code country_name  \\\n",
       "0       200809   Academic year         National    E92000001      England   \n",
       "1       200809   Academic year         National    E92000001      England   \n",
       "2       200809   Academic year         National    E92000001      England   \n",
       "4       200910   Academic year         National    E92000001      England   \n",
       "5       200910   Academic year         National    E92000001      England   \n",
       "\n",
       "  a_level_status      school_type  progression_rate  \\\n",
       "0          Total      Independent              83.3   \n",
       "1          Total  Selective State              89.2   \n",
       "2          Total      Other State              70.1   \n",
       "4          Total      Independent              85.0   \n",
       "5          Total  Selective State              89.9   \n",
       "\n",
       "   high_tariff_progression_rate  number_of_he_students  \\\n",
       "0                          53.5                  25399   \n",
       "1                          43.8                  18109   \n",
       "2                          15.6                 151084   \n",
       "4                          57.5                  26559   \n",
       "5                          49.2                  18794   \n",
       "\n",
       "   number_of_high_tariff_he_students  number_of_students  year  \n",
       "0                              16309               30475  2009  \n",
       "1                               8889               20304  2009  \n",
       "2                              33625              215396  2009  \n",
       "4                              17981               31247  2010  \n",
       "5                              10275               20895  2010  "
      ]
     },
     "execution_count": 11,
     "metadata": {},
     "output_type": "execute_result"
    }
   ],
   "source": [
    "schoolty_df.head()"
   ]
  },
  {
   "cell_type": "markdown",
   "id": "8012cc6b",
   "metadata": {},
   "source": [
    "# See tableau for Graphs"
   ]
  },
  {
   "cell_type": "code",
   "execution_count": 12,
   "id": "41198027",
   "metadata": {},
   "outputs": [],
   "source": [
    "from sklearn.preprocessing import LabelEncoder\n",
    "\n",
    "for clname in schoolty_df.columns:\n",
    "    if schoolty_df[clname].dtype == 'object':\n",
    "        lblenc_details = LabelEncoder()\n",
    "        schoolty_df[clname] = lblenc_details.fit_transform(schoolty_df[clname])\n",
    "\n",
    "\n"
   ]
  },
  {
   "cell_type": "code",
   "execution_count": 13,
   "id": "888d2f6c",
   "metadata": {},
   "outputs": [
    {
     "data": {
      "text/html": [
       "<div>\n",
       "<style scoped>\n",
       "    .dataframe tbody tr th:only-of-type {\n",
       "        vertical-align: middle;\n",
       "    }\n",
       "\n",
       "    .dataframe tbody tr th {\n",
       "        vertical-align: top;\n",
       "    }\n",
       "\n",
       "    .dataframe thead th {\n",
       "        text-align: right;\n",
       "    }\n",
       "</style>\n",
       "<table border=\"1\" class=\"dataframe\">\n",
       "  <thead>\n",
       "    <tr style=\"text-align: right;\">\n",
       "      <th></th>\n",
       "      <th>time_period</th>\n",
       "      <th>time_identifier</th>\n",
       "      <th>geographic_level</th>\n",
       "      <th>country_code</th>\n",
       "      <th>country_name</th>\n",
       "      <th>a_level_status</th>\n",
       "      <th>school_type</th>\n",
       "      <th>progression_rate</th>\n",
       "      <th>high_tariff_progression_rate</th>\n",
       "      <th>number_of_he_students</th>\n",
       "      <th>number_of_high_tariff_he_students</th>\n",
       "      <th>number_of_students</th>\n",
       "      <th>year</th>\n",
       "    </tr>\n",
       "  </thead>\n",
       "  <tbody>\n",
       "    <tr>\n",
       "      <th>0</th>\n",
       "      <td>200809</td>\n",
       "      <td>0</td>\n",
       "      <td>0</td>\n",
       "      <td>0</td>\n",
       "      <td>0</td>\n",
       "      <td>1</td>\n",
       "      <td>0</td>\n",
       "      <td>83.3</td>\n",
       "      <td>53.5</td>\n",
       "      <td>25399</td>\n",
       "      <td>16309</td>\n",
       "      <td>30475</td>\n",
       "      <td>2009</td>\n",
       "    </tr>\n",
       "    <tr>\n",
       "      <th>1</th>\n",
       "      <td>200809</td>\n",
       "      <td>0</td>\n",
       "      <td>0</td>\n",
       "      <td>0</td>\n",
       "      <td>0</td>\n",
       "      <td>1</td>\n",
       "      <td>2</td>\n",
       "      <td>89.2</td>\n",
       "      <td>43.8</td>\n",
       "      <td>18109</td>\n",
       "      <td>8889</td>\n",
       "      <td>20304</td>\n",
       "      <td>2009</td>\n",
       "    </tr>\n",
       "    <tr>\n",
       "      <th>2</th>\n",
       "      <td>200809</td>\n",
       "      <td>0</td>\n",
       "      <td>0</td>\n",
       "      <td>0</td>\n",
       "      <td>0</td>\n",
       "      <td>1</td>\n",
       "      <td>1</td>\n",
       "      <td>70.1</td>\n",
       "      <td>15.6</td>\n",
       "      <td>151084</td>\n",
       "      <td>33625</td>\n",
       "      <td>215396</td>\n",
       "      <td>2009</td>\n",
       "    </tr>\n",
       "    <tr>\n",
       "      <th>4</th>\n",
       "      <td>200910</td>\n",
       "      <td>0</td>\n",
       "      <td>0</td>\n",
       "      <td>0</td>\n",
       "      <td>0</td>\n",
       "      <td>1</td>\n",
       "      <td>0</td>\n",
       "      <td>85.0</td>\n",
       "      <td>57.5</td>\n",
       "      <td>26559</td>\n",
       "      <td>17981</td>\n",
       "      <td>31247</td>\n",
       "      <td>2010</td>\n",
       "    </tr>\n",
       "    <tr>\n",
       "      <th>5</th>\n",
       "      <td>200910</td>\n",
       "      <td>0</td>\n",
       "      <td>0</td>\n",
       "      <td>0</td>\n",
       "      <td>0</td>\n",
       "      <td>1</td>\n",
       "      <td>2</td>\n",
       "      <td>89.9</td>\n",
       "      <td>49.2</td>\n",
       "      <td>18794</td>\n",
       "      <td>10275</td>\n",
       "      <td>20895</td>\n",
       "      <td>2010</td>\n",
       "    </tr>\n",
       "  </tbody>\n",
       "</table>\n",
       "</div>"
      ],
      "text/plain": [
       "   time_period  time_identifier  geographic_level  country_code  country_name  \\\n",
       "0       200809                0                 0             0             0   \n",
       "1       200809                0                 0             0             0   \n",
       "2       200809                0                 0             0             0   \n",
       "4       200910                0                 0             0             0   \n",
       "5       200910                0                 0             0             0   \n",
       "\n",
       "   a_level_status  school_type  progression_rate  \\\n",
       "0               1            0              83.3   \n",
       "1               1            2              89.2   \n",
       "2               1            1              70.1   \n",
       "4               1            0              85.0   \n",
       "5               1            2              89.9   \n",
       "\n",
       "   high_tariff_progression_rate  number_of_he_students  \\\n",
       "0                          53.5                  25399   \n",
       "1                          43.8                  18109   \n",
       "2                          15.6                 151084   \n",
       "4                          57.5                  26559   \n",
       "5                          49.2                  18794   \n",
       "\n",
       "   number_of_high_tariff_he_students  number_of_students  year  \n",
       "0                              16309               30475  2009  \n",
       "1                               8889               20304  2009  \n",
       "2                              33625              215396  2009  \n",
       "4                              17981               31247  2010  \n",
       "5                              10275               20895  2010  "
      ]
     },
     "execution_count": 13,
     "metadata": {},
     "output_type": "execute_result"
    }
   ],
   "source": [
    "schoolty_df.head()"
   ]
  },
  {
   "cell_type": "code",
   "execution_count": 15,
   "id": "d13f13ab",
   "metadata": {},
   "outputs": [],
   "source": [
    "cond_det = [(schoolty_df['progression_rate'] < 70),\n",
    "    (schoolty_df['progression_rate'] >= 70) & (schoolty_df['progression_rate'] <= 80),\n",
    "    (schoolty_df['progression_rate'] > 80) & (schoolty_df['progression_rate'] <= 100)\n",
    "]\n",
    "newlbl = [0,1,2]\n",
    "schoolty_df['progression_rate'] = pd.cut(schoolty_df['progression_rate'], bins=[-float(\"inf\"), 50, 75, 100], labels=newlbl)\n",
    "\n",
    "schoolty_df['progression_rate'] = schoolty_df['progression_rate'].astype(int)"
   ]
  },
  {
   "cell_type": "code",
   "execution_count": 16,
   "id": "b36edee5",
   "metadata": {},
   "outputs": [
    {
     "name": "stdout",
     "output_type": "stream",
     "text": [
      "Number of unique values\n",
      " time_period                          14\n",
      "time_identifier                       1\n",
      "geographic_level                      1\n",
      "country_code                          1\n",
      "country_name                          1\n",
      "a_level_status                        2\n",
      "school_type                           3\n",
      "progression_rate                      2\n",
      "high_tariff_progression_rate         65\n",
      "number_of_he_students                77\n",
      "number_of_high_tariff_he_students    78\n",
      "number_of_students                   78\n",
      "year                                 14\n",
      "dtype: int64\n"
     ]
    }
   ],
   "source": [
    "unique_prgval = schoolty_df.nunique()\n",
    "print(\"Number of unique values\\n\", unique_prgval)\n"
   ]
  },
  {
   "cell_type": "code",
   "execution_count": 17,
   "id": "230d5f64",
   "metadata": {},
   "outputs": [],
   "source": [
    "columns_to_drop = ['time_identifier', 'country_code','country_name','geographic_level','time_period']\n",
    "nwschooltyp_df = schoolty_df.drop(columns=columns_to_drop)"
   ]
  },
  {
   "cell_type": "code",
   "execution_count": 18,
   "id": "d9512cd1",
   "metadata": {},
   "outputs": [
    {
     "data": {
      "image/png": "[encoded data removed]",
      "text/plain": [
       "<Figure size 1100x800 with 2 Axes>"
      ]
     },
     "metadata": {},
     "output_type": "display_data"
    }
   ],
   "source": [
    "correlationM_det = nwschooltyp_df.corr()\n",
    "plt.figure(figsize=(11, 8))\n",
    "sns.heatmap(correlationM_det, annot=True, cmap='coolwarm')\n",
    "plt.title('Correlation Heatmap')\n",
    "plt.show()"
   ]
  },
  {
   "cell_type": "code",
   "execution_count": 19,
   "id": "1cd6ab50",
   "metadata": {},
   "outputs": [
    {
     "data": {
      "text/plain": [
       "Index(['a_level_status', 'school_type', 'progression_rate',\n",
       "       'high_tariff_progression_rate', 'number_of_he_students',\n",
       "       'number_of_high_tariff_he_students', 'number_of_students', 'year'],\n",
       "      dtype='object')"
      ]
     },
     "execution_count": 19,
     "metadata": {},
     "output_type": "execute_result"
    }
   ],
   "source": [
    "nwschooltyp_df.columns"
   ]
  },
  {
   "cell_type": "code",
   "execution_count": 20,
   "id": "1e2646eb",
   "metadata": {},
   "outputs": [],
   "source": [
    "nwschooltyp_df.drop('number_of_he_students', axis=1, inplace=True)\n",
    "nwschooltyp_df.drop('number_of_high_tariff_he_students', axis=1, inplace=True)\n",
    "nwschooltyp_df.drop('high_tariff_progression_rate', axis=1, inplace=True)"
   ]
  },
  {
   "cell_type": "code",
   "execution_count": 21,
   "id": "80d1fd6a",
   "metadata": {},
   "outputs": [],
   "source": [
    "import pandas as pd\n",
    "from sklearn.model_selection import train_test_split\n",
    "from sklearn.preprocessing import StandardScaler\n"
   ]
  },
  {
   "cell_type": "code",
   "execution_count": 22,
   "id": "d12f9764",
   "metadata": {},
   "outputs": [],
   "source": [
    "\n",
    "xdata = nwschooltyp_df.drop(['progression_rate'], axis=1)  \n",
    "ydata = nwschooltyp_df['progression_rate']"
   ]
  },
  {
   "cell_type": "markdown",
   "id": "71861b50",
   "metadata": {},
   "source": [
    "# Standard Scalar"
   ]
  },
  {
   "cell_type": "code",
   "execution_count": 23,
   "id": "1e83a2b0",
   "metadata": {},
   "outputs": [],
   "source": [
    "x_scdata = StandardScaler().fit_transform(xdata)"
   ]
  },
  {
   "cell_type": "code",
   "execution_count": 24,
   "id": "ea0643c8",
   "metadata": {},
   "outputs": [
    {
     "data": {
      "text/plain": [
       "array([[ 0.9258201 , -1.22474487, -0.65009064, -1.82828283],\n",
       "       [ 0.9258201 ,  1.22474487, -0.75449089, -1.82828283],\n",
       "       [ 0.9258201 ,  0.        ,  1.24803129, -1.82828283],\n",
       "       [ 0.9258201 , -1.22474487, -0.64216644, -1.56565657],\n",
       "       [ 0.9258201 ,  1.22474487, -0.74842457, -1.56565657],\n",
       "       [ 0.9258201 ,  0.        ,  1.32744774, -1.56565657],\n",
       "       [-1.08012345, -1.22474487, -0.64368559, -1.3030303 ],\n",
       "       [-1.08012345,  1.22474487, -0.75174   , -1.3030303 ],\n",
       "       [-1.08012345,  0.        ,  0.94801017, -1.3030303 ],\n",
       "       [ 0.9258201 , -1.22474487, -0.63029041, -1.3030303 ],\n",
       "       [ 0.9258201 ,  1.22474487, -0.74635114, -1.3030303 ],\n",
       "       [ 0.9258201 ,  0.        ,  1.50752816, -1.3030303 ],\n",
       "       [-1.08012345, -1.22474487, -0.64265914, -1.04040404],\n",
       "       [-1.08012345,  1.22474487, -0.74187581, -1.04040404],\n",
       "       [-1.08012345,  0.        ,  1.01425726, -1.04040404],\n",
       "       [ 0.9258201 , -1.22474487, -0.62469626, -1.04040404],\n",
       "       [ 0.9258201 ,  1.22474487, -0.73646642, -1.04040404],\n",
       "       [ 0.9258201 ,  0.        ,  1.70508903, -1.04040404],\n",
       "       [-1.08012345, -1.22474487, -0.65454543, -0.77777778],\n",
       "       [-1.08012345,  1.22474487, -0.74561209, -0.77777778],\n",
       "       [-1.08012345,  0.        ,  0.98917082, -0.77777778],\n",
       "       [ 0.9258201 , -1.22474487, -0.63624383, -0.77777778],\n",
       "       [ 0.9258201 ,  1.22474487, -0.73951498, -0.77777778],\n",
       "       [ 0.9258201 ,  0.        ,  1.74171277, -0.77777778],\n",
       "       [-1.08012345, -1.22474487, -0.64550241, -0.51515152],\n",
       "       [-1.08012345,  1.22474487, -0.74169105, -0.51515152],\n",
       "       [-1.08012345,  0.        ,  1.01317949, -0.51515152],\n",
       "       [ 0.9258201 , -1.22474487, -0.62767297, -0.51515152],\n",
       "       [ 0.9258201 ,  1.22474487, -0.73597372, -0.51515152],\n",
       "       [ 0.9258201 ,  0.        ,  1.87151766, -0.51515152],\n",
       "       [-1.08012345, -1.22474487, -0.65024461, -0.25252525],\n",
       "       [-1.08012345,  1.22474487, -0.73918651, -0.25252525],\n",
       "       [-1.08012345,  0.        ,  0.99915818, -0.25252525],\n",
       "       [ 0.9258201 , -1.22474487, -0.63203538, -0.25252525],\n",
       "       [ 0.9258201 ,  1.22474487, -0.73321257, -0.25252525],\n",
       "       [ 0.9258201 ,  0.        ,  1.98390369, -0.25252525],\n",
       "       [-1.08012345, -1.22474487, -0.6575632 ,  0.01010101],\n",
       "       [-1.08012345,  1.22474487, -0.74277909,  0.01010101],\n",
       "       [-1.08012345,  0.        ,  0.95872631,  0.01010101],\n",
       "       [ 0.9258201 , -1.22474487, -0.63625409,  0.01010101],\n",
       "       [ 0.9258201 ,  1.22474487, -0.73601478,  0.01010101],\n",
       "       [ 0.9258201 ,  0.        ,  2.05362018,  0.01010101],\n",
       "       [-1.08012345, -1.22474487, -0.64446569,  0.27272727],\n",
       "       [-1.08012345,  1.22474487, -0.73958683,  0.27272727],\n",
       "       [-1.08012345,  0.        ,  1.00812936,  0.27272727],\n",
       "       [ 0.9258201 , -1.22474487, -0.62344399,  0.27272727],\n",
       "       [ 0.9258201 ,  1.22474487, -0.73204242,  0.27272727],\n",
       "       [ 0.9258201 ,  0.        ,  2.0916091 ,  0.27272727],\n",
       "       [-1.08012345, -1.22474487, -0.64989561,  0.53535354],\n",
       "       [-1.08012345,  1.22474487, -0.73522442,  0.53535354],\n",
       "       [-1.08012345,  0.        ,  1.15601003,  0.53535354],\n",
       "       [ 0.9258201 , -1.22474487, -0.62979772,  0.53535354],\n",
       "       [ 0.9258201 ,  1.22474487, -0.72758763,  0.53535354],\n",
       "       [ 0.9258201 ,  0.        ,  1.89910864,  0.53535354],\n",
       "       [-1.08012345, -1.22474487, -0.64180719,  0.7979798 ],\n",
       "       [-1.08012345,  1.22474487, -0.73174475,  0.7979798 ],\n",
       "       [-1.08012345,  0.        ,  1.14210163,  0.7979798 ],\n",
       "       [ 0.9258201 , -1.22474487, -0.62142189,  0.7979798 ],\n",
       "       [ 0.9258201 ,  1.22474487, -0.72391294,  0.7979798 ],\n",
       "       [ 0.9258201 ,  0.        ,  1.91028668,  0.7979798 ],\n",
       "       [-1.08012345, -1.22474487, -0.64959794,  1.06060606],\n",
       "       [-1.08012345,  1.22474487, -0.7299382 ,  1.06060606],\n",
       "       [-1.08012345,  0.        ,  1.06436856,  1.06060606],\n",
       "       [ 0.9258201 , -1.22474487, -0.62935634,  1.06060606],\n",
       "       [ 0.9258201 ,  1.22474487, -0.72138787,  1.06060606],\n",
       "       [ 0.9258201 ,  0.        ,  1.2663021 ,  1.06060606],\n",
       "       [-1.08012345, -1.22474487, -0.65079889,  1.32323232],\n",
       "       [-1.08012345,  1.22474487, -0.7403464 ,  1.32323232],\n",
       "       [-1.08012345,  0.        ,  1.01858888,  1.32323232],\n",
       "       [ 0.9258201 , -1.22474487, -0.62926396,  1.32323232],\n",
       "       [ 0.9258201 ,  1.22474487, -0.73101597,  1.32323232],\n",
       "       [ 0.9258201 ,  0.        ,  1.35717374,  1.32323232],\n",
       "       [-1.08012345, -1.22474487, -0.65635198,  1.58585859],\n",
       "       [-1.08012345,  1.22474487, -0.73639457,  1.58585859],\n",
       "       [-1.08012345,  0.        ,  1.05461728,  1.58585859],\n",
       "       [ 0.9258201 , -1.22474487, -0.63197379,  1.58585859],\n",
       "       [ 0.9258201 ,  1.22474487, -0.72748498,  1.58585859],\n",
       "       [ 0.9258201 ,  0.        ,  1.47217722,  1.58585859]])"
      ]
     },
     "execution_count": 24,
     "metadata": {},
     "output_type": "execute_result"
    }
   ],
   "source": [
    "x_scdata"
   ]
  },
  {
   "cell_type": "code",
   "execution_count": 25,
   "id": "ed9a6dfa",
   "metadata": {},
   "outputs": [],
   "source": [
    "x_traindts,x_testdts,y_traindts,y_testdts = train_test_split(x_scdata,ydata,test_size = 0.2, random_state=0)"
   ]
  },
  {
   "cell_type": "markdown",
   "id": "3973e1c4",
   "metadata": {},
   "source": [
    "# Logistic Regression"
   ]
  },
  {
   "cell_type": "code",
   "execution_count": 26,
   "id": "bbb810ee",
   "metadata": {},
   "outputs": [],
   "source": [
    "from sklearn.linear_model import LogisticRegression\n",
    "from sklearn.metrics import classification_report, confusion_matrix, accuracy_score,mean_squared_error\n",
    "from sklearn.model_selection import GridSearchCV"
   ]
  },
  {
   "cell_type": "code",
   "execution_count": 27,
   "id": "06bb91b8",
   "metadata": {},
   "outputs": [
    {
     "name": "stdout",
     "output_type": "stream",
     "text": [
      "Best_parameters :  {'C': 1, 'penalty': 'l2'}\n",
      "Best_score : 0.9682539682539683\n"
     ]
    },
    {
     "name": "stderr",
     "output_type": "stream",
     "text": [
      "/Users/geetharam/anaconda3/envs/myenv/lib/python3.11/site-packages/sklearn/model_selection/_validation.py:425: FitFailedWarning: \n",
      "49 fits failed out of a total of 98.\n",
      "The score on these train-test partitions for these parameters will be set to nan.\n",
      "If these failures are not expected, you can try to debug them by setting error_score='raise'.\n",
      "\n",
      "Below are more details about the failures:\n",
      "--------------------------------------------------------------------------------\n",
      "49 fits failed with the following error:\n",
      "Traceback (most recent call last):\n",
      "  File \"/Users/geetharam/anaconda3/envs/myenv/lib/python3.11/site-packages/sklearn/model_selection/_validation.py\", line 729, in _fit_and_score\n",
      "    estimator.fit(X_train, y_train, **fit_params)\n",
      "  File \"/Users/geetharam/anaconda3/envs/myenv/lib/python3.11/site-packages/sklearn/base.py\", line 1152, in wrapper\n",
      "    return fit_method(estimator, *args, **kwargs)\n",
      "           ^^^^^^^^^^^^^^^^^^^^^^^^^^^^^^^^^^^^^^\n",
      "  File \"/Users/geetharam/anaconda3/envs/myenv/lib/python3.11/site-packages/sklearn/linear_model/_logistic.py\", line 1169, in fit\n",
      "    solver = _check_solver(self.solver, self.penalty, self.dual)\n",
      "             ^^^^^^^^^^^^^^^^^^^^^^^^^^^^^^^^^^^^^^^^^^^^^^^^^^^\n",
      "  File \"/Users/geetharam/anaconda3/envs/myenv/lib/python3.11/site-packages/sklearn/linear_model/_logistic.py\", line 56, in _check_solver\n",
      "    raise ValueError(\n",
      "ValueError: Solver lbfgs supports only 'l2' or 'none' penalties, got l1 penalty.\n",
      "\n",
      "  warnings.warn(some_fits_failed_message, FitFailedWarning)\n",
      "/Users/geetharam/anaconda3/envs/myenv/lib/python3.11/site-packages/sklearn/model_selection/_search.py:979: UserWarning: One or more of the test scores are non-finite: [       nan 0.79166667        nan 0.79166667        nan 0.92063492\n",
      "        nan 0.96825397        nan 0.96825397        nan 0.93650794\n",
      "        nan 0.93650794]\n",
      "  warnings.warn(\n"
     ]
    }
   ],
   "source": [
    "from time import time\n",
    "parlogi_reg = {\n",
    "    'C': [0.001, 0.01, 0.1, 1, 10, 100,200],\n",
    "    'penalty': ['l1', 'l2']\n",
    "}\n",
    "logreg_gdcv = GridSearchCV(LogisticRegression(), param_grid=parlogi_reg,cv=7, n_jobs=-1)\n",
    "logreg_gdcv.fit(x_traindts,y_traindts)\n",
    "logi_bstparm = logreg_gdcv.best_params_\n",
    "logi_bstscore = logreg_gdcv.best_score_\n",
    "print(\"Best_parameters : \", logi_bstparm)\n",
    "print(\"Best_score :\",logi_bstscore)\n",
    "\n",
    "\n",
    "\n"
   ]
  },
  {
   "cell_type": "code",
   "execution_count": 28,
   "id": "0afc8872",
   "metadata": {},
   "outputs": [
    {
     "name": "stdout",
     "output_type": "stream",
     "text": [
      "Complete time to build and evaluate :  0.0019211769104003906\n",
      " Logistic_Regression accuracy details : 1.0\n",
      " Logistic_Regression mean squared error details: 0.0\n"
     ]
    },
    {
     "data": {
      "image/png": "[encoded data removed]",
      "text/plain": [
       "<Figure size 800x600 with 1 Axes>"
      ]
     },
     "metadata": {},
     "output_type": "display_data"
    },
    {
     "name": "stdout",
     "output_type": "stream",
     "text": [
      "\n",
      "classification report: \n",
      "\n",
      ">>>>>>>>>>>>>>>>>>>>>>>>>>>>>>>>>>>>>>>>>>>>>>>\n",
      "              precision    recall  f1-score   support\n",
      "\n",
      "           1       1.00      1.00      1.00         1\n",
      "           2       1.00      1.00      1.00        15\n",
      "\n",
      "    accuracy                           1.00        16\n",
      "   macro avg       1.00      1.00      1.00        16\n",
      "weighted avg       1.00      1.00      1.00        16\n",
      "\n"
     ]
    }
   ],
   "source": [
    "from time import time\n",
    "import numpy as np\n",
    "\n",
    "logistart_tm = time()\n",
    "\n",
    "logireg_mdl = LogisticRegression(penalty= 'l2', C = 1,max_iter=900)\n",
    "logireg_mdl.fit(x_traindts,y_traindts)\n",
    "logi_ypred = logireg_mdl.predict(x_testdts)\n",
    "\n",
    "logireg_score = logireg_mdl.score(x_testdts,y_testdts)\n",
    "\n",
    "logiend_tm = time()\n",
    "\n",
    "logireg_mse = np.sqrt(mean_squared_error(y_testdts,logi_ypred))\n",
    "\n",
    "logireg_clsrpt = classification_report(y_testdts,logi_ypred)\n",
    "\n",
    "#confusion matrix\n",
    "logireg_cfnmtx = confusion_matrix(y_testdts,logi_ypred)\n",
    "\n",
    "print(\"Complete time to build and evaluate : \", logiend_tm-logistart_tm)\n",
    "print(\" Logistic_Regression accuracy details :\",logireg_score)\n",
    "print(\" Logistic_Regression mean squared error details:\",logireg_mse)\n",
    "\n",
    "plt.figure(figsize=(8, 6))\n",
    "sns.heatmap(logireg_cfnmtx, annot=True, fmt=\"d\", cmap=\"Greens\", cbar=False)\n",
    "plt.title(\"Confusion Matrix - Logistic Regression\")\n",
    "plt.xlabel(\"Predicted\")\n",
    "plt.ylabel(\"Actual\")\n",
    "plt.show()\n",
    "\n",
    "print(\"\\nclassification report: \\n\")\n",
    "\n",
    "print(\">>>>>>>>>>>>>>>>>>>>>>>>>>>>>>>>>>>>>>>>>>>>>>>\")\n",
    "print(logireg_clsrpt)"
   ]
  },
  {
   "cell_type": "markdown",
   "id": "b9c9f577",
   "metadata": {},
   "source": [
    "# Decision Tree Classifier"
   ]
  },
  {
   "cell_type": "code",
   "execution_count": 29,
   "id": "b9c49ff7",
   "metadata": {},
   "outputs": [],
   "source": [
    "from sklearn.tree import plot_tree\n",
    "from sklearn.tree import DecisionTreeClassifier\n",
    "from sklearn.model_selection import GridSearchCV"
   ]
  },
  {
   "cell_type": "code",
   "execution_count": 30,
   "id": "d05d147e",
   "metadata": {},
   "outputs": [
    {
     "name": "stdout",
     "output_type": "stream",
     "text": [
      " Best parameters :  {'criterion': 'gini', 'max_depth': 1, 'min_samples_leaf': 1}\n",
      "Best score :  0.9692307692307693\n"
     ]
    }
   ],
   "source": [
    "decparm = {\n",
    "    'criterion': ['gini', \"entropy\"],\n",
    "    'max_depth': [a for a in range(1, 65, 5)], \n",
    "    'min_samples_leaf': [b for b in range(1, 21, 1)]}\n",
    "dectr_gd = GridSearchCV(DecisionTreeClassifier(), param_grid=decparm, cv=5) \n",
    "dectr_gd.fit(x_traindts, y_traindts)\n",
    "\n",
    "\n",
    "print(\" Best parameters : \",dectr_gd.best_params_)\n",
    "print(\"Best score : \",dectr_gd.best_score_)"
   ]
  },
  {
   "cell_type": "code",
   "execution_count": 31,
   "id": "820e945a",
   "metadata": {},
   "outputs": [
    {
     "name": "stdout",
     "output_type": "stream",
     "text": [
      "Decision Tree Algorithm:\n",
      ">>>>>>>>>>>>>>>>>>>>>>>>>>>>>>>>>>>>>>>>>>>>>>>\n",
      " time 0.0007507801055908203\n",
      "\n",
      "Score : 1.0\n",
      " Confusion matrix :\n"
     ]
    },
    {
     "data": {
      "image/png": "[encoded data removed]",
      "text/plain": [
       "<Figure size 800x600 with 1 Axes>"
      ]
     },
     "metadata": {},
     "output_type": "display_data"
    },
    {
     "name": "stdout",
     "output_type": "stream",
     "text": [
      "\n",
      "Classification Report :\n",
      "              precision    recall  f1-score   support\n",
      "\n",
      "           1       1.00      1.00      1.00         1\n",
      "           2       1.00      1.00      1.00        15\n",
      "\n",
      "    accuracy                           1.00        16\n",
      "   macro avg       1.00      1.00      1.00        16\n",
      "weighted avg       1.00      1.00      1.00        16\n",
      "\n"
     ]
    }
   ],
   "source": [
    "logistart_tm = time()\n",
    "dectr_modl = DecisionTreeClassifier(criterion = 'gini', max_depth = 1,min_samples_leaf = 1)\n",
    "dectr_modl.fit(x_traindts,y_traindts)\n",
    "logiend_tm = time()\n",
    "dectr_ypred = dectr_modl.predict(x_testdts)\n",
    "dectr_scr = dectr_modl.score(x_testdts,y_testdts)\n",
    "dectr_confm = confusion_matrix(y_testdts,dectr_ypred)\n",
    "dectr_clssrpt = classification_report(y_testdts,dectr_ypred)\n",
    "print(\"Decision Tree Algorithm:\")\n",
    "print(\">>>>>>>>>>>>>>>>>>>>>>>>>>>>>>>>>>>>>>>>>>>>>>>\")\n",
    "print(\" time\",logiend_tm-logistart_tm)\n",
    "print(\"\\nScore :\",dectr_scr)\n",
    "print(\" Confusion matrix :\")\n",
    "plt.figure(figsize=(8, 6))\n",
    "sns.heatmap(dectr_confm, annot=True, fmt=\"d\", cmap=\"Reds\", cbar=False)\n",
    "plt.title(\"Confusion Matrix - Decision Tree\")\n",
    "plt.xlabel(\"Predicted\")\n",
    "plt.ylabel(\"Actual\")\n",
    "plt.show()\n",
    "print(\"\\nClassification Report :\")\n",
    "print(dectr_clssrpt)\n"
   ]
  },
  {
   "cell_type": "markdown",
   "id": "ce51eb28",
   "metadata": {},
   "source": [
    "# Random Forest Classifier"
   ]
  },
  {
   "cell_type": "code",
   "execution_count": 32,
   "id": "7712c0c3",
   "metadata": {},
   "outputs": [],
   "source": [
    "from sklearn.ensemble import RandomForestClassifier"
   ]
  },
  {
   "cell_type": "code",
   "execution_count": 33,
   "id": "a63208fd",
   "metadata": {},
   "outputs": [
    {
     "name": "stdout",
     "output_type": "stream",
     "text": [
      "Best Random Forest attributes: {'criterion': 'gini', 'n_estimators': 200}\n",
      "Best random forest Score: 0.9525641025641025\n"
     ]
    }
   ],
   "source": [
    "randfst_parm = {\n",
    "    \"criterion\": [\"gini\", \"entropy\"], \n",
    "    \"n_estimators\": range(200, 900, 200)}\n",
    "randfst_gdcv = GridSearchCV(RandomForestClassifier(), param_grid=randfst_parm, cv=5)\n",
    "randfst_gdcv.fit(x_traindts, y_traindts)\n",
    "print('Best Random Forest attributes:', randfst_gdcv.best_params_)\n",
    "print('Best random forest Score:', randfst_gdcv.best_score_)"
   ]
  },
  {
   "cell_type": "code",
   "execution_count": 34,
   "id": "84b757cb",
   "metadata": {},
   "outputs": [
    {
     "name": "stdout",
     "output_type": "stream",
     "text": [
      "Random forest Evaluation\n",
      ">>>>>>>>>>>>>>>>>>>>>>>>>>>>>>>>>>>>>>>>>>>>>>>>>\n",
      "time :  0.37339329719543457\n",
      " score:  1.0\n"
     ]
    },
    {
     "data": {
      "image/png": "[encoded data removed]",
      "text/plain": [
       "<Figure size 800x600 with 1 Axes>"
      ]
     },
     "metadata": {},
     "output_type": "display_data"
    },
    {
     "name": "stdout",
     "output_type": "stream",
     "text": [
      "\n",
      "classification report :\n",
      "\n",
      "              precision    recall  f1-score   support\n",
      "\n",
      "           1       1.00      1.00      1.00         1\n",
      "           2       1.00      1.00      1.00        15\n",
      "\n",
      "    accuracy                           1.00        16\n",
      "   macro avg       1.00      1.00      1.00        16\n",
      "weighted avg       1.00      1.00      1.00        16\n",
      "\n"
     ]
    }
   ],
   "source": [
    "rndmfst_st = time()\n",
    "rndmfst_mdl = RandomForestClassifier(criterion=\"gini\", max_depth= 20,n_estimators=1000)\n",
    "rndmfst_mdl.fit(x_traindts, y_traindts)\n",
    "rndmfst_ed = time()\n",
    "rndmfst_ypred = rndmfst_mdl.predict(x_testdts)\n",
    "\n",
    "rndmfst_scr = rndmfst_mdl.score(x_testdts,y_testdts)\n",
    "rndmfst_confm = confusion_matrix(y_testdts,rndmfst_ypred)\n",
    "rndmfst_clsrpt = classification_report(y_testdts,rndmfst_ypred)\n",
    "\n",
    "print(\"Random forest Evaluation\")\n",
    "print(\">>>>>>>>>>>>>>>>>>>>>>>>>>>>>>>>>>>>>>>>>>>>>>>>>\")\n",
    "print(\"time : \",rndmfst_ed-rndmfst_st)\n",
    "print(\" score: \",rndmfst_scr)\n",
    "\n",
    "plt.figure(figsize=(8, 6))\n",
    "sns.heatmap(rndmfst_confm, annot=True, fmt=\"d\", cmap=\"Blues\", cbar=False)\n",
    "plt.title(\"Confusion Matrix - Random Forest\")\n",
    "plt.xlabel(\"Predicted\")\n",
    "plt.ylabel(\"Actual\")\n",
    "plt.show()\n",
    "print(\"\\nclassification report :\\n\")\n",
    "print(rndmfst_clsrpt)\n",
    "\n"
   ]
  },
  {
   "cell_type": "markdown",
   "id": "31c7aede",
   "metadata": {},
   "source": [
    "# Bagging Classifier with Decision Tree"
   ]
  },
  {
   "cell_type": "code",
   "execution_count": 35,
   "id": "cb7811f7",
   "metadata": {},
   "outputs": [
    {
     "name": "stdout",
     "output_type": "stream",
     "text": [
      "Bagging classifier\n",
      "==============================\n",
      " total time taken : 0.5173439979553223\n",
      "Accuracy score: 1.0\n"
     ]
    },
    {
     "data": {
      "image/png": "[encoded data removed]",
      "text/plain": [
       "<Figure size 640x480 with 1 Axes>"
      ]
     },
     "metadata": {},
     "output_type": "display_data"
    },
    {
     "name": "stdout",
     "output_type": "stream",
     "text": [
      " Bagging classifier score : 1.0\n",
      "classification report :\n",
      "              precision    recall  f1-score   support\n",
      "\n",
      "           1       1.00      1.00      1.00         1\n",
      "           2       1.00      1.00      1.00        15\n",
      "\n",
      "    accuracy                           1.00        16\n",
      "   macro avg       1.00      1.00      1.00        16\n",
      "weighted avg       1.00      1.00      1.00        16\n",
      "\n"
     ]
    }
   ],
   "source": [
    "from sklearn.ensemble import BaggingClassifier\n",
    "\n",
    "baggdt_str = time()\n",
    "baggdt_clsmdl = BaggingClassifier(DecisionTreeClassifier(criterion = 'entropy', max_depth = 30,min_samples_leaf = 1), n_estimators=950, bootstrap=True)\n",
    "baggdt_clsmdl.fit(x_traindts, y_traindts)\n",
    "\n",
    "baggdt_ypred = baggdt_clsmdl.predict(x_testdts)\n",
    "\n",
    "baggdt_scr = baggdt_clsmdl.score(x_testdts,y_testdts)\n",
    "\n",
    "baggdt_confm = confusion_matrix(y_testdts,baggdt_ypred)\n",
    "baggdt_clsrpt = classification_report(y_testdts,baggdt_ypred)\n",
    "baggdt_ed = time()\n",
    "print(\"Bagging classifier\")\n",
    "print(\"==============================\")\n",
    "print(\" total time taken :\",baggdt_ed-baggdt_str )\n",
    "print(\"Accuracy score:\",baggdt_scr)\n",
    "sns.heatmap(baggdt_confm, annot=True, fmt=\"d\", cmap=\"Blues\", cbar=False)\n",
    "plt.title(\"Confusion Matrix - Bagging Classifier Decision Tree\")\n",
    "plt.xlabel(\"Predicted\")\n",
    "plt.ylabel(\"Actual\")\n",
    "plt.show()\n",
    "\n",
    "print(\" Bagging classifier score :\",baggdt_scr)\n",
    "print(\"classification report :\")\n",
    "print(baggdt_clsrpt)"
   ]
  },
  {
   "cell_type": "markdown",
   "id": "f0e433e3",
   "metadata": {},
   "source": [
    "# Gradient Boosting"
   ]
  },
  {
   "cell_type": "code",
   "execution_count": 36,
   "id": "65dcdf71",
   "metadata": {},
   "outputs": [],
   "source": [
    "from sklearn.ensemble import GradientBoostingClassifier\n"
   ]
  },
  {
   "cell_type": "code",
   "execution_count": 37,
   "id": "fafcfa47",
   "metadata": {},
   "outputs": [
    {
     "name": "stdout",
     "output_type": "stream",
     "text": [
      "Gradient Boosting Algorithm \n",
      ">>>>>>>>>>>>>>>>>>>>>>>>>>>>>>>>>>>\n",
      "\n",
      "Time:  0.11854696273803711\n",
      " \n",
      "accuracy :  1.0\n"
     ]
    },
    {
     "data": {
      "image/png": "[encoded data removed]",
      "text/plain": [
       "<Figure size 640x480 with 1 Axes>"
      ]
     },
     "metadata": {},
     "output_type": "display_data"
    },
    {
     "name": "stdout",
     "output_type": "stream",
     "text": [
      "Classification Report : \n",
      "               precision    recall  f1-score   support\n",
      "\n",
      "           1       1.00      1.00      1.00         1\n",
      "           2       1.00      1.00      1.00        15\n",
      "\n",
      "    accuracy                           1.00        16\n",
      "   macro avg       1.00      1.00      1.00        16\n",
      "weighted avg       1.00      1.00      1.00        16\n",
      "\n"
     ]
    }
   ],
   "source": [
    "gradi_stm = time()\n",
    "gradibst_mdl = GradientBoostingClassifier(n_estimators=900,learning_rate=0.7,\n",
    "                                          min_samples_leaf=4,\n",
    "                                          max_depth=15)\n",
    "gradibst_mdl.fit(x_traindts,y_traindts)\n",
    "\n",
    "gradibst_ypred = gradibst_mdl.predict(x_testdts)\n",
    "\n",
    "gradibst_score = gradibst_mdl.score(x_testdts,y_testdts)\n",
    "\n",
    "gradibst_confm = confusion_matrix(y_testdts,gradibst_ypred)\n",
    "\n",
    "\n",
    "gradibst_clsrpt = classification_report(y_testdts,gradibst_ypred)\n",
    "gradi_edtm = time()\n",
    "print(\"Gradient Boosting Algorithm \")\n",
    "print(\">>>>>>>>>>>>>>>>>>>>>>>>>>>>>>>>>>>\")\n",
    "print(\"\\nTime: \",gradi_edtm-gradi_stm)\n",
    "print(\" \\naccuracy : \",gradibst_score)\n",
    "\n",
    "sns.heatmap(gradibst_confm, annot=True, fmt=\"d\", cmap=\"Blues\", cbar=False)\n",
    "plt.title(\"Confusion Matrix - Gradient Boosting\")\n",
    "plt.xlabel(\"Predicted\")\n",
    "plt.ylabel(\"Actual\")\n",
    "plt.show()\n",
    "print(\"Classification Report : \\n\",gradibst_clsrpt)"
   ]
  },
  {
   "cell_type": "code",
   "execution_count": null,
   "id": "76e07760",
   "metadata": {},
   "outputs": [],
   "source": []
  },
  {
   "cell_type": "code",
   "execution_count": null,
   "id": "bcfa199c",
   "metadata": {},
   "outputs": [],
   "source": []
  },
  {
   "cell_type": "code",
   "execution_count": null,
   "id": "15336b47",
   "metadata": {},
   "outputs": [],
   "source": []
  },
  {
   "cell_type": "code",
   "execution_count": null,
   "id": "62a4af1f",
   "metadata": {},
   "outputs": [],
   "source": []
  },
  {
   "cell_type": "code",
   "execution_count": null,
   "id": "f2319c7e",
   "metadata": {},
   "outputs": [],
   "source": []
  },
  {
   "cell_type": "code",
   "execution_count": null,
   "id": "2c076fbd",
   "metadata": {},
   "outputs": [],
   "source": []
  },
  {
   "cell_type": "code",
   "execution_count": null,
   "id": "c9e66f90",
   "metadata": {},
   "outputs": [],
   "source": []
  },
  {
   "cell_type": "code",
   "execution_count": null,
   "id": "9d93f99d",
   "metadata": {},
   "outputs": [],
   "source": []
  },
  {
   "cell_type": "code",
   "execution_count": null,
   "id": "5d7598c0",
   "metadata": {},
   "outputs": [],
   "source": []
  },
  {
   "cell_type": "code",
   "execution_count": null,
   "id": "b2f27268",
   "metadata": {},
   "outputs": [],
   "source": []
  },
  {
   "cell_type": "code",
   "execution_count": null,
   "id": "85fffa0f",
   "metadata": {},
   "outputs": [],
   "source": []
  },
  {
   "cell_type": "code",
   "execution_count": null,
   "id": "e0795877",
   "metadata": {},
   "outputs": [],
   "source": []
  },
  {
   "cell_type": "code",
   "execution_count": null,
   "id": "26f967b7",
   "metadata": {},
   "outputs": [],
   "source": []
  },
  {
   "cell_type": "code",
   "execution_count": null,
   "id": "a68a7cf4",
   "metadata": {},
   "outputs": [],
   "source": []
  },
  {
   "cell_type": "code",
   "execution_count": null,
   "id": "1b9f38b8",
   "metadata": {},
   "outputs": [],
   "source": []
  },
  {
   "cell_type": "code",
   "execution_count": null,
   "id": "39cb7f52",
   "metadata": {},
   "outputs": [],
   "source": []
  }
 ],
 "metadata": {
  "kernelspec": {
   "display_name": "Python 3 (ipykernel)",
   "language": "python",
   "name": "python3"
  },
  "language_info": {
   "codemirror_mode": {
    "name": "ipython",
    "version": 3
   },
   "file_extension": ".py",
   "mimetype": "text/x-python",
   "name": "python",
   "nbconvert_exporter": "python",
   "pygments_lexer": "ipython3",
   "version": "3.11.5"
  }
 },
 "nbformat": 4,
 "nbformat_minor": 5
}
